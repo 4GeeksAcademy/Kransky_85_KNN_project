{
    "cells": [
        {
            "cell_type": "markdown",
            "metadata": {},
            "source": [
                "# Explore here"
            ]
        },
        {
            "cell_type": "code",
            "execution_count": null,
            "metadata": {},
            "outputs": [],
            "source": []
        },
        {
            "cell_type": "code",
            "execution_count": null,
            "metadata": {},
            "outputs": [],
            "source": []
        },
        {
            "cell_type": "markdown",
            "metadata": {},
            "source": [
                "📝 Instructions\n",
                "Movie recommendation system\n",
                "Would we be able to predict which movies might or might not be a commercial success? This dataset collects part of the knowledge from the API TMDB, which contains only 5000 movies out of the total number. The following resources are available:\n",
                "\n",
                "tmdb_5000_movies: https://raw.githubusercontent.com/4GeeksAcademy/k-nearest-neighbors-project-tutorial/main/tmdb_5000_movies.csv\n",
                "\n",
                "tmdb_5000_credits: https://raw.githubusercontent.com/4GeeksAcademy/k-nearest-neighbors-project-tutorial/main/tmdb_5000_credits.csv\n",
                "\n",
                "Step 1: Loading the dataset\n",
                "We must load the two files and store them in two separate data structures (Pandas DataFrames). On one side we will have stored the information of the movies and their credits.\n",
                "\n",
                "Step 2: Creation of a database\n",
                "Create a database to store the two DataFrames in separate tables. Then join the two tables with SQL (and integrate it with Python) to generate a third table containing information from both tables unified. The key through which the join can be done is the title of the movie (title).\n",
                "\n",
                "Now, clean the generated table and leave only the following columns:\n",
                "\n",
                "movie_id\n",
                "title\n",
                "overview\n",
                "genres\n",
                "keywords\n",
                "cast\n",
                "crew\n",
                "Step 3: Transform the data\n",
                "As you can see, there are some JSON formatted columns. Select, from each of the JSONs, select the name attribute and replace the genres and keywords columns. For the cast column, select the first three names.\n",
                "\n",
                "The only columns left to modify are crew (team) and overview (summary). For the first column, convert it to contain the name of the director. For the second, convert it to a list.\n",
                "\n",
                "Once we have finished processing the columns and the recommendation model is not confused, for example, between Jennifer Aniston and Jennifer Conelly, we will remove the spaces between the words. Apply this function to the columns genres, cast, crew and keywords.\n",
                "\n",
                "Finally, we will reduce our dataset by combining all of our previous converted columns into a single column called tags (which we will create). This column will now have all the elements separated by commas and then we will replace them with blanks. It should look something like this:\n",
                "\n",
                "new_df[\"tags\"][0]\n",
                "\n",
                ">>>>\"In the 22nd century, a paraplegic Marine is dispatched to the moon Pandora on a unique mission, but becomes torn between following orders and protecting an alien civilization. Action Adventure Fantasy ScienceFiction cultureclash future spacewar spacecolony society spacetravel futuristic romance space alien tribe alienplanet cgi marine soldier battle loveaffair antiwar powerrelations mindandsoul 3d SamWorthington ZoeSaldana SigourneyWeaver JamesCameron\"\n",
                "Step 4: Build a KNN\n",
                "To solve this problem we will create our own KNN. The first thing to do is to vectorize the text following the same steps you learned in the previous lesson.\n",
                "\n",
                "Once you have done that, we would have to choose a distance to compare text. In this module we have seen a few, and the only one compatible with what we want to do is the cosine distance:\n",
                "\n",
                "from sklearn.metrics.pairwise import cosine_similarity\n",
                "\n",
                "similarity = cosine_similarity(vectors)\n",
                "With this code we can see the similarity between our vectors (vector representations of the tags column).\n",
                "\n",
                "Finally, we can design our similarity function based on the cosine distance. Our proposal is as follows:\n",
                "\n",
                "def recommend(movie):\n",
                "    movie_index = new_df[new_df[\"title\"] == movie].index[0]\n",
                "    distances = similarity[movie_index]\n",
                "    movie_list = sorted(list(enumerate(distances)), reverse = True , key = lambda x: x[1])[1:6]\n",
                "    \n",
                "    for i in movie_list:\n",
                "        print(new_df.iloc[i[0]].title)\n",
                "In such a way that we would return the 5 movies most similar to the one we enter in the title. We could use it as follows:\n",
                "\n",
                "recommend(\"Enter a film name\")"
            ]
        }
    ],
    "metadata": {
        "kernelspec": {
            "display_name": "Python 3.8.13 64-bit ('3.8.13')",
            "language": "python",
            "name": "python3"
        },
        "language_info": {
            "codemirror_mode": {
                "name": "ipython",
                "version": 3
            },
            "file_extension": ".py",
            "mimetype": "text/x-python",
            "name": "python",
            "nbconvert_exporter": "python",
            "pygments_lexer": "ipython3",
            "version": "3.8.13"
        },
        "orig_nbformat": 4,
        "vscode": {
            "interpreter": {
                "hash": "110cc1dee26208153f2972f08a2ad52b6a56238dc66d48e87fb757ef2996db56"
            }
        }
    },
    "nbformat": 4,
    "nbformat_minor": 2
}
